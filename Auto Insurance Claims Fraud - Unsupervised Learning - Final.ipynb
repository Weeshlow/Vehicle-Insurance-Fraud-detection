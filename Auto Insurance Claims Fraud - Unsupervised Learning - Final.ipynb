{
  "metadata": {
    "name": "Auto Insurance Claims Fraud - Unsupervised Learning - Final",
    "kernelspec": {
      "language": "scala",
      "name": "spark2-scala"
    },
    "language_info": {
      "codemirror_mode": "text/x-scala",
      "file_extension": ".scala",
      "mimetype": "text/x-scala",
      "name": "scala",
      "pygments_lexer": "scala"
    }
  },
  "nbformat": 4,
  "nbformat_minor": 2,
  "cells": [
    {
      "cell_type": "markdown",
      "metadata": {},
      "source": "## Auto Insurance Claims Fraud - Unsupervised Learning\n\nNearly one of 10 Americans would commit insurance fraud if they knew they could get away with it. Nearly one of four Americans say it’s ok to defraud insurers.   About one in 10 people agree it’s ok to submit claims for items that aren’t lost or damaged, or for personal injuries that didn’t occur. Two of five people are “not very likely” or “not likely at all” to report someone who ripped of an insurer.  \n\\- Accenture Ltd.(2003)   \n\nNearly three of 10 Americans (29 percent) wouldn\u0027t report insurance scams committed by someone they know.  \n\\- Progressive Insurance (2001)\n\nThis notebook shows how to \"flag\" anomalous insurance claims using an unsupervised learning algorithm (1-Class Support Vector Machine).  The notebook first builds a 1-Class SVM model and then applies the model to flag unusual or suspicious auto insurance claims .   The anomaly detection model can also be applied to “score” new records.  The entire machine learning methodology runs inside the ADW.\n\nCopyright (c) 2021 Oracle Corporation \n###### \u003ca href\u003d\"https://oss.oracle.com/licenses/upl/\" onclick\u003d\"return ! window.open(\u0027https://oss.oracle.com/licenses/upl/\u0027);\"\u003eThe Universal Permissive License (UPL), Version 1.0\u003c/a\u003e\n---\n"
    },
    {
      "cell_type": "markdown",
      "metadata": {},
      "source": " \n![tiny arrow](http://www.oracle.com/technetwork/database/options/advanced-analytics/autoinsurancepic60-5434493.jpg \"tiny arrow\")\n"
    },
    {
      "cell_type": "markdown",
      "metadata": {},
      "source": "## Business Problem\n\n---\nWe want to sift through our recent automobile insurance claims looking for anomalies, that is, suscicious or potentially fraudulent insurance claims. We will use the unsupervised Oracle Machine Learning 1-class Support Vector Machine algorithm. The goal is to build and apply the model on our *unlabeled* data to identify the most suspicious claims (e.g., the top 1-2%) for further investigation by auto insurance claims investigators who will assign labels in the column **FraudFound** of **Yes** or **No** for further supervised learning."
    },
    {
      "cell_type": "code",
      "execution_count": 3,
      "metadata": {
        "autoscroll": "auto"
      },
      "outputs": [],
      "source": "%python\r\n\r\nimport oml\r\nimport pandas as pd \r\n\r\n# URL of the location of the data in CSV format\r\nurl\u003d\"https://raw.githubusercontent.com/oracle/oracle-db-examples/master/machine-learning/datasets/CLAIMS.csv\"\r\n\r\n# Create a local Pandas Dataframe\r\nclaims_pd \u003d pd.read_csv(url)\r\n\r\n# Check the number of rows and columns of the PD\r\nclaims_pd.shape\r\n\r\n\r\n# Ensure a table with that name does not exist\r\ntry:\r\n    oml.drop(table\u003d\u0027CLAIMS\u0027)\r\nexcept:\r\n    pass\r\n    \r\nclaims_pd \u003d claims_pd.rename(columns \u003d {\"DAYS:POLICY-ACCIDENT\": \u0027DAYSPOLICYACCIDENT\u0027, \u0027DAYS:POLICY-CLAIM\u0027: \u0027DAYSPOLICYCLAIM\u0027, \u0027ADDRESSCHANGE-CLAIM\u0027: \u0027ADDRESSCHANGECLAIM\u0027})\r\n\r\n\r\n# Create the table CLAIMS and get back a proxy object CLAIMS_DF    \r\nCLAIMS_DF \u003d oml.create(claims_pd, table \u003d \u0027CLAIMS\u0027)"
    },
    {
      "cell_type": "code",
      "execution_count": 4,
      "metadata": {
        "autoscroll": "auto"
      },
      "outputs": [],
      "source": "%python\n\nCLAIMS_UNSPV_DF \u003d CLAIMS_DF.drop(\u0027FRAUDFOUND\u0027)\n\ntry:\n    oml.drop(table\u003d\u0027CLAIMS_UNSPV\u0027)\nexcept:\n    pass\n    \n_ \u003d CLAIMS_UNSPV_DF.materialize(table \u003d \u0027CLAIMS_UNSPV\u0027)"
    },
    {
      "cell_type": "markdown",
      "metadata": {},
      "source": "## Data Exploration\n\n---"
    },
    {
      "cell_type": "code",
      "execution_count": 6,
      "metadata": {
        "autoscroll": "auto"
      },
      "outputs": [],
      "source": "%sql \n\nselect * from CLAIMS_UNSPV;"
    },
    {
      "cell_type": "code",
      "execution_count": 7,
      "metadata": {
        "autoscroll": "auto"
      },
      "outputs": [],
      "source": "%sql \n\nselect AGEOFPOLICYHOLDER, DEDUCTIBLE, POLICYNUMBER from CLAIMS_UNSPV SAMPLE(50);"
    },
    {
      "cell_type": "code",
      "execution_count": 8,
      "metadata": {
        "autoscroll": "auto"
      },
      "outputs": [],
      "source": "%sql\nSELECT AGEOFPOLICYHOLDER, VEHICLEPRICE, POLICYNUMBER FROM CLAIMS_UNSPV;"
    },
    {
      "cell_type": "code",
      "execution_count": 9,
      "metadata": {
        "autoscroll": "auto"
      },
      "outputs": [],
      "source": "%sql\n\nSELECT DRIVERRATING, VEHICLECATEGORY, POLICYNUMBER from CLAIMS_UNSPV;"
    },
    {
      "cell_type": "code",
      "execution_count": 10,
      "metadata": {
        "autoscroll": "auto"
      },
      "outputs": [],
      "source": "%sql\n\nSELECT MONTHCLAIMED, NUMBEROFCARS, POLICYNUMBER from CLAIMS_UNSPV"
    },
    {
      "cell_type": "markdown",
      "metadata": {},
      "source": "## Modeling\n\n---"
    },
    {
      "cell_type": "code",
      "execution_count": 12,
      "metadata": {
        "autoscroll": "auto"
      },
      "outputs": [],
      "source": "%script\n\nBEGIN DBMS_DATA_MINING.DROP_MODEL(\u0027CLAIMSMODEL\u0027);\nEXCEPTION WHEN OTHERS THEN NULL; END;\n/\nDECLARE\n    v_setlst DBMS_DATA_MINING.SETTING_LIST;\nBEGIN\n    v_setlst(\u0027ALGO_NAME\u0027)   :\u003d \u0027ALGO_SUPPORT_VECTOR_MACHINES\u0027;\n    V_setlst(\u0027PREP_AUTO\u0027)   :\u003d \u0027ON\u0027;\n\n    DBMS_DATA_MINING.CREATE_MODEL2(\n        MODEL_NAME          \u003d\u003e \u0027CLAIMSMODEL\u0027,\n        MINING_FUNCTION     \u003d\u003e \u0027CLASSIFICATION\u0027,\n        DATA_QUERY          \u003d\u003e \u0027select * from CLAIMS_UNSPV\u0027,\n        SET_LIST            \u003d\u003e v_setlst,\n        CASE_ID_COLUMN_NAME \u003d\u003e \u0027POLICYNUMBER\u0027,\n        TARGET_COLUMN_NAME  \u003d\u003e NULL);\nEND;"
    },
    {
      "cell_type": "markdown",
      "metadata": {},
      "source": "### Examples of possible setting overrides for SVM\n\nIf the user does not override the default settings,  relevant settings are determined by the algorithm.\n\nA complete list of settings can be found in the Documentation link:\n\n-- Algorithm Settings: \u003ca href\u003d\"https://docs.oracle.com/en/database/oracle/oracle-database/21/arpls/DBMS_DATA_MINING.html#GUID-12408982-E738-4D0F-A2BC-84D895E07ABB\" onclick\u003d\"return ! window.open(\u0027https://docs.oracle.com/en/database/oracle/oracle-database/21/arpls/DBMS_DATA_MINING.html#GUID-12408982-E738-4D0F-A2BC-84D895E07ABB\u0027);\"\u003eSupport Vector Machine\u003c/a\u003e \n\n-- Specify SVMS_COMPLEXITY_FACTOR metric for Support Vector Machine. \n   Regularization setting that balances the complexity of the model against model robustness to achieve good generalization on new data. SVM uses a data-driven approach to finding the complexity factor.Value of complexity factor for SVM algorithm (both classification and regression).Default value estimated from the data by the algorithm.\n    \u0027SVMS_COMPLEXITY_FACTOR\u0027 : \u00271\u0027\n    \n-- Convergence tolerance for SVM algorithm.and the default is 0.0001.\n    \u0027SVMS_CONV_TOLERANCE\u0027 : \u00270.005\u0027\n    \n-- Regularization setting for regression, similar to complexity factor. Epsilon specifies the allowable residuals, or noise, in the data.Value of epsilon factor for SVM regression.Default      is 0.1. \n    \u0027SVMS_EPSILON\u0027 : \u00270.2\u0027\n    \n-- Kernel for Support Vector Machine. Linear or Gaussian.The default value is SVMS_LINEAR.\n    \u0027SVMS_KERNEL_FUNCTION\u0027 : \u0027SVMS_GAUSSIAN\u0027\n\n-- The desired rate of outliers in the training data. Valid for One-Class SVM models only (anomaly detection).Default is 0.01.     \n    \u0027SVMS_OUTLIER_RATE\u0027 : \u00270.05\u0027\n    \n-- Controls the spread of the Gaussian kernel function. SVM uses a data-driven approach to find a standard deviation value that is on the same scale as distances between typical cases.        Value of standard deviation for SVM algorithm.This is applicable only for Gaussian kernel. Default value estimated from the data by the algorithm.       \n    \u0027SVMS_STD_DEV\u0027 : \u00272\u0027\n    \n--This setting sets an upper limit on the number of pivots used in the Incomplete Cholesky decomposition. It can be set only for non-linear kernels. The default value is 200.\n    \u0027SVMS_NUM_PIVOTS\u0027 : \u0027220\u0027\n    \n-This setting applies to SVM models with linear kernel. This setting sets the size of the batch for the SGD solver. An input of 0 triggers a data driven batch size estimate. The default is      20000.\n    \u0027SVMS_BATCH_ROWS\u0027 : \u002721000\u0027\n\n--This setting controls the type of regularization that the SGD SVM solver uses. The setting can be used only for linear SVM models. The default is system determined because it depends on      the potential model size. Values : SVMS_REGULARIZER_L1 or SVMS_REGULARIZER_L2\n    \u0027SVMS_REGULARIZER\u0027 : \u0027SVMS_REGULARIZER_L1\u0027\n\n\n--This setting allows the user to choose the SVM solver. The SGD solver cannot be selected if the kernel is non-linear. The default value is system determined. Different Values                SVMS_SOLVER_SGD (Sub-Gradient Descend),SVMS_SOLVER_IPM (Interior Point Method)\n    \u0027SVMS_SOLVER\u0027 : \u0027SVMS_SOLVER_SGD\u0027\n    "
    },
    {
      "cell_type": "markdown",
      "metadata": {},
      "source": "### Apply model to flag anomalies\n\nNote that anomalies are predicted with a value of 0, and normal cases with a value of 1. Below, we get the prediction probability of being an anomaly. "
    },
    {
      "cell_type": "code",
      "execution_count": 15,
      "metadata": {
        "autoscroll": "auto"
      },
      "outputs": [],
      "source": "%sql\n\n-- Obtain the anomlay prediction probability using the 1-Class SVM model.\n\nselect  round((prediction_probability(CLAIMSMODEL, \u00270\u0027 using *))*100,2) prob_fraud,\n        POLICYNUMBER, AGEOFPOLICYHOLDER, SEX, MARITALSTATUS, NUMBEROFCARS, WITNESSPRESENT\nfrom CLAIMS_UNSPV order by prob_fraud desc;\n\n"
    },
    {
      "cell_type": "code",
      "execution_count": 16,
      "metadata": {
        "autoscroll": "auto"
      },
      "outputs": [],
      "source": "%sql\nSELECT NUMBEROFCARS, AGEOFPOLICYHOLDER, POLICYNUMBER FROM\n(select POLICYNUMBER, AGEOFPOLICYHOLDER, SEX, MARITALSTATUS, NUMBEROFCARS, WITNESSPRESENT, round(prob_fraud*100,2) percent_fraud,\n      rank() over (order by prob_fraud desc) rnk from\n(select POLICYNUMBER, AGEOFPOLICYHOLDER, SEX, MARITALSTATUS, NUMBEROFCARS, WITNESSPRESENT, prediction_probability(CLAIMSMODEL, \u00270\u0027 using *) prob_fraud\nfrom CLAIMS_UNSPV\n))"
    },
    {
      "cell_type": "markdown",
      "metadata": {},
      "source": "### Display Prediction Details\n\nPrediction details by default are produced as an XML string, however, using SQL, we can easily convert this to multi-column format as shown below. "
    },
    {
      "cell_type": "code",
      "execution_count": 18,
      "metadata": {
        "autoscroll": "auto"
      },
      "outputs": [],
      "source": "%script\n\nBEGIN EXECUTE IMMEDIATE \u0027DROP TABLE SUSPICIOUS_CLAIMS\u0027;\nEXCEPTION WHEN OTHERS THEN NULL; END;\n/\nCREATE TABLE SUSPICIOUS_CLAIMS AS \n  SELECT * FROM\n  (select POLICYNUMBER, \n  AGEOFPOLICYHOLDER, \n  SEX, \n  MARITALSTATUS,\n  DEDUCTIBLE, \n  AGEOFVEHICLE, \n  WEEKOFMONTHCLAIMED, \n  BASEPOLICY, \n  ADDRESSCHANGECLAIM, \n  DAYSPOLICYCLAIM, \n  DRIVERRATING, \n  POLICEREPORTFILED, \n  PASTNUMBEROFCLAIMS, \n  WEEKOFMONTH, \n  WITNESSPRESENT, \n  DAYOFWEEKCLAIMED, \n  MONTHCLAIMED, \n  MAKE, \n  REPNUMBER, \n  NUMBEROFCARS, \n  DAYSPOLICYACCIDENT, \n  FAULT, \n  NUMBEROFSUPPLIMENTS, \n  ACCIDENTAREA, \n  VEHICLEPRICE, \n  VEHICLECATEGORY, \n  PREDICTIONDETAILS,\n  AGENTTYPE, \n  round(prob_fraud*100,2) percent_fraud,\n      rank() over (order by prob_fraud desc) rnk \n      from\n  (select POLICYNUMBER, \n  AGEOFPOLICYHOLDER, \n  SEX, MARITALSTATUS, \n  DEDUCTIBLE, \n  AGEOFVEHICLE, \n  WEEKOFMONTHCLAIMED,\n  BASEPOLICY, ADDRESSCHANGECLAIM, DAYSPOLICYCLAIM, DRIVERRATING, POLICEREPORTFILED, PASTNUMBEROFCLAIMS, WEEKOFMONTH, WITNESSPRESENT, DAYOFWEEKCLAIMED, MONTHCLAIMED, MAKE, REPNUMBER, NUMBEROFCARS, DAYSPOLICYACCIDENT, FAULT, NUMBEROFSUPPLIMENTS, ACCIDENTAREA, VEHICLEPRICE, VEHICLECATEGORY, AGENTTYPE, prediction_probability(CLAIMSMODEL, \u00270\u0027 using *) prob_fraud, PREDICTION_DETAILS(\"CLAIMSMODEL\", \u00270\u0027, 5 ABS USING *) \"PREDICTIONDETAILS\" \n   from CLAIMS_UNSPV\n  ))\norder by percent_fraud desc;"
    },
    {
      "cell_type": "code",
      "execution_count": 19,
      "metadata": {
        "autoscroll": "auto"
      },
      "outputs": [],
      "source": "%sql\n\nSELECT RNK,PERCENT_FRAUD,PREDICTIONDETAILS,POLICYNUMBER FROM SUSPICIOUS_CLAIMS;"
    },
    {
      "cell_type": "code",
      "execution_count": 20,
      "metadata": {
        "autoscroll": "auto"
      },
      "outputs": [],
      "source": "%sql\n\n-- Parsed XML Output to view Fraudulent Transactions based on Policy Numbers and Percent Fraud.\n\nSELECT POLICYNUMBER,\n    round(percent_fraud*100,2) percent_fraud,\n    RTRIM(TRIM(SUBSTR(OUTPRED.\"Attribute1\",17,100)),\u0027rank\u003d\"1\"/\u003e\u0027) FIRST_ATTRIBUTE,\n    RTRIM(TRIM(SUBSTR(OUTPRED.\"Attribute2\",17,100)),\u0027rank\u003d\"2\"/\u003e\u0027) SECOND_ATTRIBUTE,\n    RTRIM(TRIM(SUBSTR(OUTPRED.\"Attribute3\",17,100)),\u0027rank\u003d\"3\"/\u003e\u0027) THIRD_ATTRIBUTE\nFROM (SELECT POLICYNUMBER,\n     PREDICTION(CLAIMSMODEL USING *) percent_fraud,\n     PREDICTION_DETAILS(CLAIMSMODEL USING *) PD\n    FROM SUSPICIOUS_CLAIMS\n    WHERE POLICYNUMBER \u003c 100000\n    ORDER BY POLICYNUMBER) OUT,\n    XMLTABLE(\u0027/Details\u0027\n    PASSING OUT.PD\n    COLUMNS \n    \"Attribute1\" XMLType PATH \u0027Attribute[1]\u0027,\n    \"Attribute2\" XMLType PATH \u0027Attribute[2]\u0027,\n    \"Attribute3\" XMLType PATH \u0027Attribute[3]\u0027) \n    OUTPRED"
    },
    {
      "cell_type": "markdown",
      "metadata": {},
      "source": "# End of script\n"
    },
    {
      "cell_type": "markdown",
      "metadata": {},
      "source": ""
    }
  ]
}